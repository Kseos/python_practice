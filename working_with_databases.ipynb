{
 "cells": [
  {
   "cell_type": "markdown",
   "id": "632ba2d9-1952-4386-9e5d-8bd4abe4e397",
   "metadata": {},
   "source": [
    "### SQLite"
   ]
  },
  {
   "cell_type": "code",
   "execution_count": 46,
   "id": "8e9f9884-3d05-44fb-967a-e4511bcc24bc",
   "metadata": {
    "scrolled": true
   },
   "outputs": [
    {
     "name": "stdout",
     "output_type": "stream",
     "text": [
      "(1, 'Product A', 150.0, 15.0)\n",
      "(3, 'Product C', 120.0, 12.0)\n",
      "(4, 'Product D', 200.0, 20.0)\n",
      "(7, 'Product G', 110.0, 11.0)\n"
     ]
    }
   ],
   "source": [
    "import sqlite3\n",
    "import pandas as pd\n",
    "\n",
    "conn = sqlite3.connect('example.db') # подключение к базе данных\n",
    "cursor = conn.cursor()\n",
    "\n",
    "cursor.execute('DROP TABLE IF EXISTS products')\n",
    "\n",
    "cursor.execute('''\n",
    "    CREATE TABLE IF NOT EXISTS products (\n",
    "        id INTEGER PRIMARY KEY,\n",
    "        name TEXT NOT NULL,\n",
    "        price REAL NOT NULL )\n",
    "    ''')\n",
    "\n",
    "cursor.execute('''\n",
    "    INSERT INTO products (id, name, price) VALUES \n",
    "        (1, 'Product A', 150.00),\n",
    "        (2, 'Product B', 80.00),\n",
    "        (3, 'Product C', 120.00),\n",
    "        (4, 'Product D', 200.00),\n",
    "        (5, 'Product E', 90.00),\n",
    "        (6, 'Product F', 60.00),\n",
    "        (7, 'Product G', 110.00)\n",
    "    ''')\n",
    "\n",
    "conn.commit()\n",
    "\n",
    "df = pd.read_sql_query(\"SELECT * FROM products\", conn)\n",
    "\n",
    "price = 100\n",
    "filtered_df = df[df['price'] > price].copy()\n",
    "\n",
    "filtered_df['discount'] = filtered_df['price'] * 0.1\n",
    "\n",
    "filtered_df.to_sql('products',conn, if_exists='replace', index=False)\n",
    "\n",
    "cursor.execute(\"SELECT * FROM products\")\n",
    "for row in cursor.fetchall():\n",
    "    print(row)\n",
    "    \n",
    "conn.close()"
   ]
  },
  {
   "cell_type": "markdown",
   "id": "63ab4853-028f-4ddb-9be5-46c09624101f",
   "metadata": {},
   "source": [
    "### PostgreSQL"
   ]
  },
  {
   "cell_type": "code",
   "execution_count": null,
   "id": "38321a08-c228-46c0-8504-03a252378d96",
   "metadata": {},
   "outputs": [],
   "source": [
    "!pip install psycopg2"
   ]
  },
  {
   "cell_type": "code",
   "execution_count": 47,
   "id": "e1be1493-0168-430e-9446-82fd74862a2c",
   "metadata": {},
   "outputs": [
    {
     "name": "stdin",
     "output_type": "stream",
     "text": [
      "Введите новый пароль и айди пользователя через пробел:  ddghhdh 2\n"
     ]
    },
    {
     "name": "stdout",
     "output_type": "stream",
     "text": [
      "(1, 'Jhon', 'jhon@gmail.com', 'sdrot123')\n",
      "(2, 'Maria', 'maria@mail.ru', 'ddghhdh')\n"
     ]
    }
   ],
   "source": [
    "import psycopg2\n",
    "\n",
    "conn_params = {\n",
    "    'host': '172.17.1.49',\n",
    "    'port': 5432,\n",
    "    'database': 'module1',\n",
    "    'user': 'da',\n",
    "    'password': 'da2024DE@'\n",
    "}\n",
    "conn = psycopg2.connect(**conn_params)\n",
    "\n",
    "cursor = conn.cursor()\n",
    "\n",
    "#cursor.execute(\"DROP TABLE users_ksen\")\n",
    "\n",
    "cursor.execute(\n",
    "    '''CREATE TABLE IF NOT EXISTS users_ksen (\n",
    "        id INTEGER PRIMARY KEY,\n",
    "        username TEXT NOT NULL,\n",
    "        email TEXT NOT NULL,\n",
    "        password TEXT NOT NULL )\n",
    "    ''')\n",
    "    \n",
    "cursor.execute(\n",
    "    '''INSERT INTO users_ksen (id, username, email, password) VALUES \n",
    "        (1, 'Jhon', 'jhon@gmail.com', 'sdrot123'),\n",
    "        (2, 'Maria', 'maria@mail.ru', 'sfhieg45dk')\n",
    "    ''')\n",
    "\n",
    "# обновление пароля\n",
    "new_password, user_id = input('Введите новый пароль и айди пользователя через пробел: ').split()\n",
    "cursor.execute(\"UPDATE users_ksen SET password = %s WHERE id = %s\", (new_password, user_id))\n",
    "               \n",
    "cursor.execute(\"SELECT * FROM users_ksen\")\n",
    "for row in cursor.fetchall():\n",
    "    print(row)\n",
    "\n",
    "cursor.close()\n",
    "conn.close()"
   ]
  }
 ],
 "metadata": {
  "kernelspec": {
   "display_name": "Python 3 (ipykernel)",
   "language": "python",
   "name": "python3"
  },
  "language_info": {
   "codemirror_mode": {
    "name": "ipython",
    "version": 3
   },
   "file_extension": ".py",
   "mimetype": "text/x-python",
   "name": "python",
   "nbconvert_exporter": "python",
   "pygments_lexer": "ipython3",
   "version": "3.11.5"
  }
 },
 "nbformat": 4,
 "nbformat_minor": 5
}
