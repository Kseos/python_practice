{
 "cells": [
  {
   "attachments": {},
   "cell_type": "markdown",
   "id": "9d4a00a4-bcb6-475f-8e6d-bda26cc2a848",
   "metadata": {
    "jp-MarkdownHeadingCollapsed": true
   },
   "source": [
    "#### Сравнение библиотек"
   ]
  },
  {
   "cell_type": "markdown",
   "id": "82497908-63cf-4e44-97e8-18713d3346d2",
   "metadata": {},
   "source": [
    "![image](https://miro.medium.com/v2/resize:fit:1100/format:webp/1*Yfw56a_KXNjnn_Y0BOgtzw.png)"
   ]
  },
  {
   "cell_type": "markdown",
   "id": "c35e1161-18cd-4f57-a110-06b545dfa7d0",
   "metadata": {},
   "source": [
    "#### Задания"
   ]
  },
  {
   "cell_type": "code",
   "execution_count": 1,
   "id": "cb6e40d7-f5a3-4757-a0b8-9c0ba45a7880",
   "metadata": {},
   "outputs": [],
   "source": [
    "#!pip uninstall pandas\n",
    "#!pip install pandas"
   ]
  },
  {
   "cell_type": "code",
   "execution_count": 2,
   "id": "2e2fff44-3eac-4c2f-9f56-ff5ceebd4444",
   "metadata": {},
   "outputs": [],
   "source": [
    "import pandas as pd"
   ]
  },
  {
   "cell_type": "markdown",
   "id": "101b57ff-4795-46ff-aa26-1419c696619f",
   "metadata": {},
   "source": [
    "#### Создание объектов Pandas"
   ]
  },
  {
   "cell_type": "code",
   "execution_count": 3,
   "id": "7ac0377b-ecbc-41ec-a9d4-a6e3e3a16c27",
   "metadata": {},
   "outputs": [],
   "source": [
    "data = [10, 20, 30, 40, 50]\n",
    "s = pd.Series(data)\n",
    "\n",
    "data = {'Name': ['Alice', 'Bob', 'Charlie'],\n",
    "        'Age': [25, 30, 28],\n",
    "        'City': ['New York', 'London', 'Paris']}\n",
    "df = pd.DataFrame(data)"
   ]
  },
  {
   "cell_type": "markdown",
   "id": "10766e3d-d665-49b4-bec8-4aa631e8b89d",
   "metadata": {},
   "source": [
    "#### Чтение данных"
   ]
  },
  {
   "cell_type": "code",
   "execution_count": 4,
   "id": "6d8e4c8b-43f5-4491-93f8-6b7a50271ce6",
   "metadata": {},
   "outputs": [],
   "source": [
    "# тут все понятно, поэтому я добавила только csv в папку\n",
    "df = pd.read_csv('avocado.csv') \n",
    "# df = pd.read_excel('data.xlsx', sheet_name='Sheet1')\n",
    "# df = pd.read_json('data.json')"
   ]
  },
  {
   "cell_type": "markdown",
   "id": "cc0c02aa-29c8-490c-9c9d-3778674f5907",
   "metadata": {},
   "source": [
    "#### Запись данных + Обработка и очистка данных\n",
    "Для того, чтобы начать очистку данных, выведем первые две строки файла"
   ]
  },
  {
   "cell_type": "code",
   "execution_count": 5,
   "id": "3aff5bbe-c227-4508-879d-9329c85495c9",
   "metadata": {},
   "outputs": [
    {
     "data": {
      "text/html": [
       "<div>\n",
       "<style scoped>\n",
       "    .dataframe tbody tr th:only-of-type {\n",
       "        vertical-align: middle;\n",
       "    }\n",
       "\n",
       "    .dataframe tbody tr th {\n",
       "        vertical-align: top;\n",
       "    }\n",
       "\n",
       "    .dataframe thead th {\n",
       "        text-align: right;\n",
       "    }\n",
       "</style>\n",
       "<table border=\"1\" class=\"dataframe\">\n",
       "  <thead>\n",
       "    <tr style=\"text-align: right;\">\n",
       "      <th></th>\n",
       "      <th>Unnamed: 0</th>\n",
       "      <th>Date</th>\n",
       "      <th>AveragePrice</th>\n",
       "      <th>Total Volume</th>\n",
       "      <th>4046</th>\n",
       "      <th>4225</th>\n",
       "      <th>4770</th>\n",
       "      <th>Total Bags</th>\n",
       "      <th>Small Bags</th>\n",
       "      <th>Large Bags</th>\n",
       "      <th>XLarge Bags</th>\n",
       "      <th>type</th>\n",
       "      <th>year</th>\n",
       "      <th>region</th>\n",
       "    </tr>\n",
       "  </thead>\n",
       "  <tbody>\n",
       "    <tr>\n",
       "      <th>0</th>\n",
       "      <td>0</td>\n",
       "      <td>2015-12-27</td>\n",
       "      <td>1.33</td>\n",
       "      <td>64236.62</td>\n",
       "      <td>1036.74</td>\n",
       "      <td>54454.85</td>\n",
       "      <td>48.16</td>\n",
       "      <td>8696.87</td>\n",
       "      <td>8603.62</td>\n",
       "      <td>93.25</td>\n",
       "      <td>0.0</td>\n",
       "      <td>conventional</td>\n",
       "      <td>2015</td>\n",
       "      <td>Albany</td>\n",
       "    </tr>\n",
       "    <tr>\n",
       "      <th>1</th>\n",
       "      <td>1</td>\n",
       "      <td>2015-12-20</td>\n",
       "      <td>1.35</td>\n",
       "      <td>54876.98</td>\n",
       "      <td>674.28</td>\n",
       "      <td>44638.81</td>\n",
       "      <td>58.33</td>\n",
       "      <td>9505.56</td>\n",
       "      <td>9408.07</td>\n",
       "      <td>97.49</td>\n",
       "      <td>0.0</td>\n",
       "      <td>conventional</td>\n",
       "      <td>2015</td>\n",
       "      <td>Albany</td>\n",
       "    </tr>\n",
       "  </tbody>\n",
       "</table>\n",
       "</div>"
      ],
      "text/plain": [
       "   Unnamed: 0        Date  AveragePrice  Total Volume     4046      4225  \\\n",
       "0           0  2015-12-27          1.33      64236.62  1036.74  54454.85   \n",
       "1           1  2015-12-20          1.35      54876.98   674.28  44638.81   \n",
       "\n",
       "    4770  Total Bags  Small Bags  Large Bags  XLarge Bags          type  year  \\\n",
       "0  48.16     8696.87     8603.62       93.25          0.0  conventional  2015   \n",
       "1  58.33     9505.56     9408.07       97.49          0.0  conventional  2015   \n",
       "\n",
       "   region  \n",
       "0  Albany  \n",
       "1  Albany  "
      ]
     },
     "execution_count": 5,
     "metadata": {},
     "output_type": "execute_result"
    }
   ],
   "source": [
    "# df.info()\n",
    "df.head(2)"
   ]
  },
  {
   "cell_type": "code",
   "execution_count": 6,
   "id": "bee4befa-88ea-479f-b553-d16396625598",
   "metadata": {},
   "outputs": [],
   "source": [
    "# удаляем ненужные колонки\n",
    "drop_columns = ['Unnamed: 0','4046','4225','4770','type']\n",
    "df = df.drop(labels=drop_columns, axis=1)\n",
    "\n",
    "# преобразуем столбец дат в нужный тип\n",
    "df['Date'] = pd.to_datetime(df['Date'])\n",
    "\n",
    "df.to_csv('avocado_from_pandas.csv', index=False)\n",
    "\n",
    "# Для других форматов\n",
    "# df.to_excel('data.xlsx', sheet_name='Sheet1', index=False)\n",
    "# df.to_json('data.json')"
   ]
  },
  {
   "cell_type": "code",
   "execution_count": 7,
   "id": "d3fb89de-c617-44f3-bde6-346f37bfbc6f",
   "metadata": {},
   "outputs": [
    {
     "data": {
      "text/html": [
       "<div>\n",
       "<style scoped>\n",
       "    .dataframe tbody tr th:only-of-type {\n",
       "        vertical-align: middle;\n",
       "    }\n",
       "\n",
       "    .dataframe tbody tr th {\n",
       "        vertical-align: top;\n",
       "    }\n",
       "\n",
       "    .dataframe thead th {\n",
       "        text-align: right;\n",
       "    }\n",
       "</style>\n",
       "<table border=\"1\" class=\"dataframe\">\n",
       "  <thead>\n",
       "    <tr style=\"text-align: right;\">\n",
       "      <th></th>\n",
       "      <th>Date</th>\n",
       "      <th>AveragePrice</th>\n",
       "      <th>Total Volume</th>\n",
       "      <th>Total Bags</th>\n",
       "      <th>Small Bags</th>\n",
       "      <th>Large Bags</th>\n",
       "      <th>XLarge Bags</th>\n",
       "      <th>year</th>\n",
       "      <th>region</th>\n",
       "    </tr>\n",
       "  </thead>\n",
       "  <tbody>\n",
       "    <tr>\n",
       "      <th>0</th>\n",
       "      <td>2015-12-27</td>\n",
       "      <td>1.33</td>\n",
       "      <td>64236.62</td>\n",
       "      <td>8696.87</td>\n",
       "      <td>8603.62</td>\n",
       "      <td>93.25</td>\n",
       "      <td>0.0</td>\n",
       "      <td>2015</td>\n",
       "      <td>Albany</td>\n",
       "    </tr>\n",
       "    <tr>\n",
       "      <th>1</th>\n",
       "      <td>2015-12-20</td>\n",
       "      <td>1.35</td>\n",
       "      <td>54876.98</td>\n",
       "      <td>9505.56</td>\n",
       "      <td>9408.07</td>\n",
       "      <td>97.49</td>\n",
       "      <td>0.0</td>\n",
       "      <td>2015</td>\n",
       "      <td>Albany</td>\n",
       "    </tr>\n",
       "  </tbody>\n",
       "</table>\n",
       "</div>"
      ],
      "text/plain": [
       "        Date  AveragePrice  Total Volume  Total Bags  Small Bags  Large Bags  \\\n",
       "0 2015-12-27          1.33      64236.62     8696.87     8603.62       93.25   \n",
       "1 2015-12-20          1.35      54876.98     9505.56     9408.07       97.49   \n",
       "\n",
       "   XLarge Bags  year  region  \n",
       "0          0.0  2015  Albany  \n",
       "1          0.0  2015  Albany  "
      ]
     },
     "execution_count": 7,
     "metadata": {},
     "output_type": "execute_result"
    }
   ],
   "source": [
    "# df.info()\n",
    "df.head(2)"
   ]
  },
  {
   "cell_type": "markdown",
   "id": "9d0bb352-f9e0-498c-afa3-6d6e4e74d49d",
   "metadata": {},
   "source": [
    "#### Группировка данных"
   ]
  },
  {
   "cell_type": "code",
   "execution_count": 8,
   "id": "b660ef2b-05f5-4b9e-a852-d29894e400fc",
   "metadata": {},
   "outputs": [
    {
     "data": {
      "text/plain": [
       "region\n",
       "TotalUS         17351302.3\n",
       "West             3215322.9\n",
       "California       3044324.4\n",
       "SouthCentral     2991951.5\n",
       "Northeast        2110298.5\n",
       "Name: Total Volume, dtype: object"
      ]
     },
     "execution_count": 8,
     "metadata": {},
     "output_type": "execute_result"
    }
   ],
   "source": [
    "# группируем датасет сверху по региону и посчитаем среднее количество проданных авокадо\n",
    "# выведем 10 регионов с наибольшими продажами\n",
    "\n",
    "grouped = df.groupby('region')['Total Volume'].mean()\n",
    "sorted_and_formatted = grouped.sort_values(ascending=False).apply(lambda x: f\"{x:.1f}\")\n",
    "sorted_and_formatted.head()"
   ]
  },
  {
   "cell_type": "markdown",
   "id": "57db2992-a556-4bda-984f-b7f3f375940b",
   "metadata": {},
   "source": [
    "#### Соединение таблиц"
   ]
  },
  {
   "cell_type": "code",
   "execution_count": 9,
   "id": "28e469ef-45c8-4f74-921b-878278e6afa5",
   "metadata": {},
   "outputs": [
    {
     "data": {
      "text/html": [
       "<div>\n",
       "<style scoped>\n",
       "    .dataframe tbody tr th:only-of-type {\n",
       "        vertical-align: middle;\n",
       "    }\n",
       "\n",
       "    .dataframe tbody tr th {\n",
       "        vertical-align: top;\n",
       "    }\n",
       "\n",
       "    .dataframe thead th {\n",
       "        text-align: right;\n",
       "    }\n",
       "</style>\n",
       "<table border=\"1\" class=\"dataframe\">\n",
       "  <thead>\n",
       "    <tr style=\"text-align: right;\">\n",
       "      <th></th>\n",
       "      <th>CustomerID</th>\n",
       "      <th>Name</th>\n",
       "      <th>Email</th>\n",
       "      <th>OrderID</th>\n",
       "      <th>OrderAmount</th>\n",
       "    </tr>\n",
       "  </thead>\n",
       "  <tbody>\n",
       "    <tr>\n",
       "      <th>0</th>\n",
       "      <td>1</td>\n",
       "      <td>Alice</td>\n",
       "      <td>alice@example.com</td>\n",
       "      <td>101</td>\n",
       "      <td>250.75</td>\n",
       "    </tr>\n",
       "    <tr>\n",
       "      <th>1</th>\n",
       "      <td>1</td>\n",
       "      <td>Alice</td>\n",
       "      <td>alice@example.com</td>\n",
       "      <td>103</td>\n",
       "      <td>300.00</td>\n",
       "    </tr>\n",
       "    <tr>\n",
       "      <th>2</th>\n",
       "      <td>2</td>\n",
       "      <td>Bob</td>\n",
       "      <td>bob@example.com</td>\n",
       "      <td>102</td>\n",
       "      <td>150.50</td>\n",
       "    </tr>\n",
       "    <tr>\n",
       "      <th>3</th>\n",
       "      <td>3</td>\n",
       "      <td>Charlie</td>\n",
       "      <td>charlie@example.com</td>\n",
       "      <td>104</td>\n",
       "      <td>400.00</td>\n",
       "    </tr>\n",
       "  </tbody>\n",
       "</table>\n",
       "</div>"
      ],
      "text/plain": [
       "   CustomerID     Name                Email  OrderID  OrderAmount\n",
       "0           1    Alice    alice@example.com      101       250.75\n",
       "1           1    Alice    alice@example.com      103       300.00\n",
       "2           2      Bob      bob@example.com      102       150.50\n",
       "3           3  Charlie  charlie@example.com      104       400.00"
      ]
     },
     "execution_count": 9,
     "metadata": {},
     "output_type": "execute_result"
    }
   ],
   "source": [
    "import pandas as pd\n",
    "\n",
    "customers_data = {\n",
    "    'CustomerID': [1, 2, 3, 4],\n",
    "    'Name': ['Alice', 'Bob', 'Charlie', 'David'],\n",
    "    'Email': ['alice@example.com', 'bob@example.com', 'charlie@example.com', 'david@example.com']}\n",
    "\n",
    "customers_df = pd.DataFrame(customers_data)\n",
    "\n",
    "orders_data = {\n",
    "    'OrderID': [101, 102, 103, 104],\n",
    "    'CustomerID': [1, 2, 1, 3],\n",
    "    'OrderAmount': [250.75, 150.50, 300.00, 400.00]}\n",
    "\n",
    "orders_df = pd.DataFrame(orders_data)\n",
    "\n",
    "merged_df = pd.merge(customers_df, orders_df, on='CustomerID', how='inner')\n",
    "\n",
    "merged_df.head()"
   ]
  },
  {
   "cell_type": "markdown",
   "id": "4feac3bb-a1f8-4d5a-9932-25d405cf7d72",
   "metadata": {},
   "source": [
    "#### Анализ данных о продажах"
   ]
  },
  {
   "cell_type": "code",
   "execution_count": 10,
   "id": "cc6dfa28-146d-4e72-9fe4-b72aae708ffa",
   "metadata": {},
   "outputs": [
    {
     "data": {
      "text/html": [
       "<div>\n",
       "<style scoped>\n",
       "    .dataframe tbody tr th:only-of-type {\n",
       "        vertical-align: middle;\n",
       "    }\n",
       "\n",
       "    .dataframe tbody tr th {\n",
       "        vertical-align: top;\n",
       "    }\n",
       "\n",
       "    .dataframe thead th {\n",
       "        text-align: right;\n",
       "    }\n",
       "</style>\n",
       "<table border=\"1\" class=\"dataframe\">\n",
       "  <thead>\n",
       "    <tr style=\"text-align: right;\">\n",
       "      <th></th>\n",
       "      <th>rank</th>\n",
       "      <th>name</th>\n",
       "      <th>platform</th>\n",
       "      <th>year</th>\n",
       "      <th>genre</th>\n",
       "      <th>publisher</th>\n",
       "      <th>na_sales</th>\n",
       "      <th>eu_sales</th>\n",
       "      <th>jp_sales</th>\n",
       "      <th>other_sales</th>\n",
       "      <th>global_sales</th>\n",
       "    </tr>\n",
       "  </thead>\n",
       "  <tbody>\n",
       "    <tr>\n",
       "      <th>0</th>\n",
       "      <td>1</td>\n",
       "      <td>Wii Sports</td>\n",
       "      <td>Wii</td>\n",
       "      <td>2006</td>\n",
       "      <td>Sports</td>\n",
       "      <td>Nintendo</td>\n",
       "      <td>41.49</td>\n",
       "      <td>29.02</td>\n",
       "      <td>3.77</td>\n",
       "      <td>8.46</td>\n",
       "      <td>82.74</td>\n",
       "    </tr>\n",
       "    <tr>\n",
       "      <th>1</th>\n",
       "      <td>2</td>\n",
       "      <td>Super Mario Bros.</td>\n",
       "      <td>NES</td>\n",
       "      <td>1985</td>\n",
       "      <td>Platform</td>\n",
       "      <td>Nintendo</td>\n",
       "      <td>29.08</td>\n",
       "      <td>3.58</td>\n",
       "      <td>6.81</td>\n",
       "      <td>0.77</td>\n",
       "      <td>40.24</td>\n",
       "    </tr>\n",
       "    <tr>\n",
       "      <th>2</th>\n",
       "      <td>3</td>\n",
       "      <td>Mario Kart Wii</td>\n",
       "      <td>Wii</td>\n",
       "      <td>2008</td>\n",
       "      <td>Racing</td>\n",
       "      <td>Nintendo</td>\n",
       "      <td>15.85</td>\n",
       "      <td>12.88</td>\n",
       "      <td>3.79</td>\n",
       "      <td>3.31</td>\n",
       "      <td>35.82</td>\n",
       "    </tr>\n",
       "  </tbody>\n",
       "</table>\n",
       "</div>"
      ],
      "text/plain": [
       "   rank               name platform  year     genre publisher  na_sales  \\\n",
       "0     1         Wii Sports      Wii  2006    Sports  Nintendo     41.49   \n",
       "1     2  Super Mario Bros.      NES  1985  Platform  Nintendo     29.08   \n",
       "2     3     Mario Kart Wii      Wii  2008    Racing  Nintendo     15.85   \n",
       "\n",
       "   eu_sales  jp_sales  other_sales  global_sales  \n",
       "0     29.02      3.77         8.46         82.74  \n",
       "1      3.58      6.81         0.77         40.24  \n",
       "2     12.88      3.79         3.31         35.82  "
      ]
     },
     "execution_count": 10,
     "metadata": {},
     "output_type": "execute_result"
    }
   ],
   "source": [
    "sales = pd.read_csv('video_game_sales.csv')\n",
    "\n",
    "sales = sales.dropna(subset=['year']) # удалили строки, в которых нет года выпуска игры\n",
    "sales['year'] = pd.to_numeric(sales['year'], errors='coerce').astype(int) # привела к типу данных int\n",
    "\n",
    "# sales.info()\n",
    "sales.head(3)"
   ]
  },
  {
   "cell_type": "code",
   "execution_count": 11,
   "id": "5f7d5552-4bbf-4a5d-b496-f12f3040a402",
   "metadata": {},
   "outputs": [
    {
     "name": "stdout",
     "output_type": "stream",
     "text": [
      "Общая сумма продаж: 8820.05\n"
     ]
    },
    {
     "data": {
      "image/png": "[encoded data removed]",
      "text/plain": [
       "<Figure size 1000x400 with 1 Axes>"
      ]
     },
     "metadata": {},
     "output_type": "display_data"
    }
   ],
   "source": [
    "import matplotlib.pyplot as plt\n",
    "\n",
    "total_sales = sales['global_sales'].sum()\n",
    "print(f'Общая сумма продаж: {total_sales}')\n",
    "\n",
    "year_grouped = sales.groupby('year')['global_sales'].sum()\n",
    "\n",
    "plt.figure(figsize=(10, 4))\n",
    "\n",
    "year_grouped.plot(kind='bar', color='lightgreen')\n",
    "plt.title('Продажи по годам')\n",
    "plt.xlabel('Год')\n",
    "plt.ylabel('Сумма продаж')\n",
    "plt.xticks(rotation=55)\n",
    "plt.tight_layout()\n",
    "plt.show()"
   ]
  },
  {
   "cell_type": "markdown",
   "id": "6f6ea9c4-881d-4a29-b228-5eb5dd112565",
   "metadata": {},
   "source": [
    "#### Анализ данных о фильмах"
   ]
  },
  {
   "cell_type": "code",
   "execution_count": 12,
   "id": "62947b81-d4cc-432c-b203-96e252d70594",
   "metadata": {},
   "outputs": [
    {
     "data": {
      "text/html": [
       "<div>\n",
       "<style scoped>\n",
       "    .dataframe tbody tr th:only-of-type {\n",
       "        vertical-align: middle;\n",
       "    }\n",
       "\n",
       "    .dataframe tbody tr th {\n",
       "        vertical-align: top;\n",
       "    }\n",
       "\n",
       "    .dataframe thead th {\n",
       "        text-align: right;\n",
       "    }\n",
       "</style>\n",
       "<table border=\"1\" class=\"dataframe\">\n",
       "  <thead>\n",
       "    <tr style=\"text-align: right;\">\n",
       "      <th></th>\n",
       "      <th>title</th>\n",
       "      <th>year</th>\n",
       "      <th>certificate</th>\n",
       "      <th>duration</th>\n",
       "      <th>genre</th>\n",
       "      <th>rating</th>\n",
       "      <th>description</th>\n",
       "      <th>stars</th>\n",
       "      <th>votes</th>\n",
       "    </tr>\n",
       "  </thead>\n",
       "  <tbody>\n",
       "    <tr>\n",
       "      <th>0</th>\n",
       "      <td>Cobra Kai</td>\n",
       "      <td>(2018– )</td>\n",
       "      <td>TV-14</td>\n",
       "      <td>30 min</td>\n",
       "      <td>Action, Comedy, Drama</td>\n",
       "      <td>8.5</td>\n",
       "      <td>Decades after their 1984 All Valley Karate Tou...</td>\n",
       "      <td>['Ralph Macchio, ', 'William Zabka, ', 'Courtn...</td>\n",
       "      <td>177,031</td>\n",
       "    </tr>\n",
       "    <tr>\n",
       "      <th>1</th>\n",
       "      <td>The Crown</td>\n",
       "      <td>(2016– )</td>\n",
       "      <td>TV-MA</td>\n",
       "      <td>58 min</td>\n",
       "      <td>Biography, Drama, History</td>\n",
       "      <td>8.7</td>\n",
       "      <td>Follows the political rivalries and romance of...</td>\n",
       "      <td>['Claire Foy, ', 'Olivia Colman, ', 'Imelda St...</td>\n",
       "      <td>199,885</td>\n",
       "    </tr>\n",
       "  </tbody>\n",
       "</table>\n",
       "</div>"
      ],
      "text/plain": [
       "       title      year certificate duration                      genre  \\\n",
       "0  Cobra Kai  (2018– )       TV-14   30 min      Action, Comedy, Drama   \n",
       "1  The Crown  (2016– )       TV-MA   58 min  Biography, Drama, History   \n",
       "\n",
       "   rating                                        description  \\\n",
       "0     8.5  Decades after their 1984 All Valley Karate Tou...   \n",
       "1     8.7  Follows the political rivalries and romance of...   \n",
       "\n",
       "                                               stars    votes  \n",
       "0  ['Ralph Macchio, ', 'William Zabka, ', 'Courtn...  177,031  \n",
       "1  ['Claire Foy, ', 'Olivia Colman, ', 'Imelda St...  199,885  "
      ]
     },
     "execution_count": 12,
     "metadata": {},
     "output_type": "execute_result"
    }
   ],
   "source": [
    "import pandas as pd\n",
    "import matplotlib.pyplot as plt\n",
    "import numpy as np\n",
    "\n",
    "df = pd.read_csv('IMBD.csv')\n",
    "df.head(2)"
   ]
  },
  {
   "cell_type": "code",
   "execution_count": 14,
   "id": "d144847c-3557-4d25-aea9-3af371b70b74",
   "metadata": {},
   "outputs": [
    {
     "data": {
      "image/png": "[encoded data removed]",
      "text/plain": [
       "<Figure size 1200x450 with 1 Axes>"
      ]
     },
     "metadata": {},
     "output_type": "display_data"
    }
   ],
   "source": [
    "df['rating'] = df['rating'].replace({'NAN': 0})\n",
    "df['rating'] = df['rating'].astype(float)\n",
    "\n",
    "highest_rating = df.sort_values(by='rating' , ascending=False)[['title' , \n",
    "                                                                'rating']].head(10)\n",
    "plt.figure(figsize=(12, 4.5))\n",
    "plt.style.use('seaborn-v0_8-white')\n",
    "colors = plt.cm.viridis(np.linspace(0, 1, len(highest_rating)))\n",
    "bars = plt.barh(highest_rating['title'], highest_rating['rating'], color=colors)\n",
    "\n",
    "plt.title('TV shows with highest rating', size = 16)\n",
    "plt.xlabel('Movie')\n",
    "plt.ylabel('Score')\n",
    "plt.gca().invert_yaxis()\n",
    "plt.xlim(5, 10)\n",
    "plt.show()"
   ]
  }
 ],
 "metadata": {
  "kernelspec": {
   "display_name": "Python 3 (ipykernel)",
   "language": "python",
   "name": "python3"
  },
  "language_info": {
   "codemirror_mode": {
    "name": "ipython",
    "version": 3
   },
   "file_extension": ".py",
   "mimetype": "text/x-python",
   "name": "python",
   "nbconvert_exporter": "python",
   "pygments_lexer": "ipython3",
   "version": "3.11.5"
  }
 },
 "nbformat": 4,
 "nbformat_minor": 5
}
